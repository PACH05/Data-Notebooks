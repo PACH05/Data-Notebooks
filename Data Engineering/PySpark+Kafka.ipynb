{
 "cells": [
  {
   "cell_type": "markdown",
   "id": "5910eb2f-77da-479d-80be-d82b8be3e496",
   "metadata": {},
   "source": [
    "Configuration for Kafka"
   ]
  },
  {
   "cell_type": "code",
   "execution_count": 1,
   "id": "e489e89e-9695-48e6-87af-121427c5d944",
   "metadata": {},
   "outputs": [],
   "source": [
    "import os\n",
    "os.environ[\"PYSPARK_SUBMIT_ARGS\"] = \"--packages org.apache.spark:spark-sql-kafka-0-10_2.13:4.0.0 pyspark-shell\""
   ]
  },
  {
   "cell_type": "markdown",
   "id": "e812f8cd-5a4a-4e7a-b842-76b6a2c32749",
   "metadata": {},
   "source": [
    "Imports"
   ]
  },
  {
   "cell_type": "code",
   "execution_count": 2,
   "id": "b88fd2a1-7e03-4998-b66f-0bf17042cfe6",
   "metadata": {},
   "outputs": [],
   "source": [
    "from pyspark.sql import SparkSession\n",
    "from pyspark.sql.functions import col, from_json\n",
    "from pyspark.sql.types import StructType, StructField, StringType, IntegerType"
   ]
  },
  {
   "cell_type": "markdown",
   "id": "98fc81b2-f3fc-455c-a17d-b00cb985e69b",
   "metadata": {},
   "source": [
    "Create Spark Session"
   ]
  },
  {
   "cell_type": "code",
   "execution_count": 3,
   "id": "86c988c1-5726-4134-b1a6-b6a9274d00e0",
   "metadata": {},
   "outputs": [],
   "source": [
    "spark = SparkSession.builder.getOrCreate()"
   ]
  },
  {
   "cell_type": "code",
   "execution_count": 4,
   "id": "e5d066fd-9f68-43fa-b0dd-9dcbddca8e58",
   "metadata": {},
   "outputs": [],
   "source": [
    "order_schema = StructType([\n",
    "    StructField(\"order_id\", IntegerType()),\n",
    "    StructField(\"amount\", IntegerType()),\n",
    "    StructField(\"status\", StringType())\n",
    "])"
   ]
  },
  {
   "cell_type": "markdown",
   "id": "3bc621f4-42f3-44e1-8209-8efbe4761550",
   "metadata": {},
   "source": [
    "Kafka Stream Config"
   ]
  },
  {
   "cell_type": "code",
   "execution_count": 5,
   "id": "9941c1d1-3420-4d4a-98fb-f10978c443a3",
   "metadata": {},
   "outputs": [],
   "source": [
    "kafka_df = spark.readStream \\\n",
    "    .format(\"kafka\") \\\n",
    "    .option(\"kafka.bootstrap.servers\", \"localhost:9092\") \\\n",
    "    .option(\"subscribe\", \"orders\") \\\n",
    "    .option(\"startingOffsets\", \"earliest\") \\\n",
    "    .load()"
   ]
  },
  {
   "cell_type": "code",
   "execution_count": 6,
   "id": "54dafe97-e3f4-448d-9534-857ce7da5e83",
   "metadata": {},
   "outputs": [],
   "source": [
    "kafka_df_string = kafka_df.selectExpr(\"CAST(value AS STRING)\")"
   ]
  },
  {
   "cell_type": "code",
   "execution_count": 7,
   "id": "6f3cb17f-4cf1-4acf-a2e1-6ecd24e1b690",
   "metadata": {},
   "outputs": [],
   "source": [
    "orders_df = kafka_df_string.select(from_json(col(\"value\"), order_schema).alias(\"data\")) \\\n",
    "    .select(\"data.*\")"
   ]
  },
  {
   "cell_type": "code",
   "execution_count": 8,
   "id": "7a145c35-9151-41e7-a89b-c5a7a41e8dbd",
   "metadata": {},
   "outputs": [],
   "source": [
    "filtered_orders = orders_df.filter(col(\"status\").isin(\"delivered\", \"pending\"))"
   ]
  },
  {
   "cell_type": "markdown",
   "id": "0e08c23c-ab20-4b02-a97b-e44e0b24a60c",
   "metadata": {},
   "source": [
    "Start Streaming"
   ]
  },
  {
   "cell_type": "code",
   "execution_count": 22,
   "id": "c0fa87d0-54e7-427f-87f9-42c61afdea9c",
   "metadata": {},
   "outputs": [
    {
     "data": {
      "text/plain": [
       "False"
      ]
     },
     "execution_count": 22,
     "metadata": {},
     "output_type": "execute_result"
    }
   ],
   "source": [
    "query = filtered_orders.writeStream \\\n",
    "    .outputMode(\"append\") \\\n",
    "    .format(\"csv\") \\\n",
    "    .option(\"path\", \"../StreamOutput/kafka_output/\") \\\n",
    "    .option(\"checkpointLocation\", \"../StreamOutput/kafka_checkpoint\") \\\n",
    "    .option(\"header\", \"true\") \\\n",
    "    .start()\n",
    "\n",
    "query.awaitTermination(timeout=90)"
   ]
  }
 ],
 "metadata": {
  "kernelspec": {
   "display_name": "Python 3 (ipykernel)",
   "language": "python",
   "name": "python3"
  },
  "language_info": {
   "codemirror_mode": {
    "name": "ipython",
    "version": 3
   },
   "file_extension": ".py",
   "mimetype": "text/x-python",
   "name": "python",
   "nbconvert_exporter": "python",
   "pygments_lexer": "ipython3",
   "version": "3.12.7"
  }
 },
 "nbformat": 4,
 "nbformat_minor": 5
}
