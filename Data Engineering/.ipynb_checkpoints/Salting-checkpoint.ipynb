{
 "cells": [
  {
   "cell_type": "code",
   "execution_count": 1,
   "id": "86421430-b608-4dee-b97a-7247deb9a21a",
   "metadata": {},
   "outputs": [],
   "source": [
    "from pyspark.sql import SparkSession"
   ]
  },
  {
   "cell_type": "code",
   "execution_count": 2,
   "id": "5af0bccb-1890-417d-9ce6-9b7ad83777c7",
   "metadata": {},
   "outputs": [],
   "source": [
    "spark = SparkSession.builder.getOrCreate()"
   ]
  },
  {
   "cell_type": "code",
   "execution_count": 4,
   "id": "e75db46f-5d56-434d-9e48-ada737765234",
   "metadata": {},
   "outputs": [],
   "source": [
    "df = spark.read.csv(\"../Dataset/skewed_sales_dataset.csv\",header=True)"
   ]
  },
  {
   "cell_type": "code",
   "execution_count": 5,
   "id": "d9bc18ab-bd8a-4a65-b0aa-4a5aed647a33",
   "metadata": {},
   "outputs": [
    {
     "name": "stdout",
     "output_type": "stream",
     "text": [
      "+-------+----------+--------+\n",
      "|user_id|product_id|sale_amt|\n",
      "+-------+----------+--------+\n",
      "|   u231|     p0390|     234|\n",
      "|   u759|     p0310|     354|\n",
      "|   u001|     p0229|     311|\n",
      "|   u553|     p0103|     352|\n",
      "|   u965|     p0493|     357|\n",
      "+-------+----------+--------+\n",
      "only showing top 5 rows\n"
     ]
    }
   ],
   "source": [
    "df.show(5)"
   ]
  },
  {
   "cell_type": "code",
   "execution_count": 6,
   "id": "4554443e-da38-4a55-8d64-b51920a096e2",
   "metadata": {},
   "outputs": [
    {
     "data": {
      "text/plain": [
       "1000000"
      ]
     },
     "execution_count": 6,
     "metadata": {},
     "output_type": "execute_result"
    }
   ],
   "source": [
    "df.count()"
   ]
  },
  {
   "cell_type": "code",
   "execution_count": 19,
   "id": "a3d47877-890d-418c-9f25-aec89e8443a1",
   "metadata": {},
   "outputs": [],
   "source": [
    "from pyspark.sql.functions import col, concat, lit, rand, floor, explode, array, concat_ws"
   ]
  },
  {
   "cell_type": "code",
   "execution_count": 8,
   "id": "c329dd09-35c3-4859-92ad-c0f400e784e3",
   "metadata": {},
   "outputs": [
    {
     "name": "stdout",
     "output_type": "stream",
     "text": [
      "+-------+------+\n",
      "|user_id| count|\n",
      "+-------+------+\n",
      "|   u001|500000|\n",
      "|   u734|   576|\n",
      "|   u656|   571|\n",
      "|   u925|   563|\n",
      "|   u937|   560|\n",
      "|   u726|   558|\n",
      "|   u134|   557|\n",
      "|   u286|   556|\n",
      "|   u795|   555|\n",
      "|   u899|   551|\n",
      "|   u850|   551|\n",
      "|   u625|   551|\n",
      "|   u377|   550|\n",
      "|   u163|   549|\n",
      "|   u571|   549|\n",
      "|   u038|   549|\n",
      "|   u515|   548|\n",
      "|   u947|   548|\n",
      "|   u020|   548|\n",
      "|   u388|   548|\n",
      "+-------+------+\n",
      "only showing top 20 rows\n"
     ]
    }
   ],
   "source": [
    "df.groupBy('user_id').count().orderBy(col(\"count\").desc()).show()"
   ]
  },
  {
   "cell_type": "markdown",
   "id": "5a69861b-6566-4814-85a0-b08af077f02c",
   "metadata": {},
   "source": [
    "Data is skewed with 50% records for u001"
   ]
  },
  {
   "cell_type": "code",
   "execution_count": 9,
   "id": "75e09e1f-69c5-4c44-9a79-e4009723d81c",
   "metadata": {},
   "outputs": [],
   "source": [
    "user_df = df.select(\"user_id\").distinct()"
   ]
  },
  {
   "cell_type": "code",
   "execution_count": 10,
   "id": "fae04ad1-c195-41ff-a735-23f3d5ad32b9",
   "metadata": {},
   "outputs": [
    {
     "name": "stdout",
     "output_type": "stream",
     "text": [
      "+-------+\n",
      "|user_id|\n",
      "+-------+\n",
      "|   u897|\n",
      "|   u633|\n",
      "|   u483|\n",
      "|   u631|\n",
      "|   u403|\n",
      "+-------+\n",
      "only showing top 5 rows\n"
     ]
    }
   ],
   "source": [
    "user_df.show(5)"
   ]
  },
  {
   "cell_type": "code",
   "execution_count": 11,
   "id": "cd4f2d3f-70e3-4709-ad50-eba12f8fc2ad",
   "metadata": {},
   "outputs": [],
   "source": [
    "user_df = user_df.withColumn(\"Name\", concat(lit(\"Salesman \"), user_df[\"user_id\"]))"
   ]
  },
  {
   "cell_type": "code",
   "execution_count": 12,
   "id": "c03822f5-44d2-476d-9224-54041113d2ff",
   "metadata": {},
   "outputs": [
    {
     "name": "stdout",
     "output_type": "stream",
     "text": [
      "+-------+-------------+\n",
      "|user_id|         Name|\n",
      "+-------+-------------+\n",
      "|   u897|Salesman u897|\n",
      "|   u633|Salesman u633|\n",
      "|   u483|Salesman u483|\n",
      "|   u631|Salesman u631|\n",
      "|   u403|Salesman u403|\n",
      "|   u311|Salesman u311|\n",
      "|   u462|Salesman u462|\n",
      "|   u357|Salesman u357|\n",
      "|   u716|Salesman u716|\n",
      "|   u130|Salesman u130|\n",
      "|   u336|Salesman u336|\n",
      "|   u500|Salesman u500|\n",
      "|   u416|Salesman u416|\n",
      "|   u077|Salesman u077|\n",
      "|   u333|Salesman u333|\n",
      "|   u533|Salesman u533|\n",
      "|   u205|Salesman u205|\n",
      "|   u316|Salesman u316|\n",
      "|   u042|Salesman u042|\n",
      "|   u455|Salesman u455|\n",
      "+-------+-------------+\n",
      "only showing top 20 rows\n"
     ]
    }
   ],
   "source": [
    "user_df.show()"
   ]
  },
  {
   "cell_type": "code",
   "execution_count": 13,
   "id": "505049b4-0e44-480d-89d8-e4fb574f8a95",
   "metadata": {},
   "outputs": [
    {
     "data": {
      "text/plain": [
       "999"
      ]
     },
     "execution_count": 13,
     "metadata": {},
     "output_type": "execute_result"
    }
   ],
   "source": [
    "user_df.count()"
   ]
  },
  {
   "cell_type": "markdown",
   "id": "09743ab1-7a4d-48ba-a088-adc457f19cf1",
   "metadata": {},
   "source": [
    "Broadcast Join might not be feasible based on data volume. We need to optimize the join by using salting"
   ]
  },
  {
   "cell_type": "markdown",
   "id": "6b25214b-91fb-41c9-b3c7-c17b8a7faba3",
   "metadata": {},
   "source": [
    "Salting"
   ]
  },
  {
   "cell_type": "code",
   "execution_count": 16,
   "id": "e9c082cf-7803-4803-8559-29dd1aab7e4b",
   "metadata": {},
   "outputs": [],
   "source": [
    "SALT_BUCKETS = 5\n",
    "df_large_salted = df.withColumn(\"salt\", floor(rand() * SALT_BUCKETS))"
   ]
  },
  {
   "cell_type": "code",
   "execution_count": 17,
   "id": "33a1f19c-9041-42f0-94a9-20f187c92d33",
   "metadata": {},
   "outputs": [
    {
     "name": "stdout",
     "output_type": "stream",
     "text": [
      "+-------+----------+--------+----+\n",
      "|user_id|product_id|sale_amt|salt|\n",
      "+-------+----------+--------+----+\n",
      "|   u231|     p0390|     234|   3|\n",
      "|   u759|     p0310|     354|   2|\n",
      "|   u001|     p0229|     311|   2|\n",
      "|   u553|     p0103|     352|   0|\n",
      "|   u965|     p0493|     357|   2|\n",
      "+-------+----------+--------+----+\n",
      "only showing top 5 rows\n"
     ]
    }
   ],
   "source": [
    "df_large_salted.show(5)"
   ]
  },
  {
   "cell_type": "code",
   "execution_count": 21,
   "id": "c4c2dace-af49-4794-96ff-aaca093c29c3",
   "metadata": {},
   "outputs": [],
   "source": [
    "df_large_salted.createOrReplaceTempView(\"TempView\")"
   ]
  },
  {
   "cell_type": "code",
   "execution_count": 23,
   "id": "4526a5fb-f91c-41bf-845e-959d38c719fb",
   "metadata": {},
   "outputs": [
    {
     "name": "stdout",
     "output_type": "stream",
     "text": [
      "+-------+----------+--------+----+\n",
      "|user_id|product_id|sale_amt|salt|\n",
      "+-------+----------+--------+----+\n",
      "|   u231|     p0390|     234|   3|\n",
      "|   u759|     p0310|     354|   2|\n",
      "|   u001|     p0229|     311|   2|\n",
      "|   u553|     p0103|     352|   0|\n",
      "|   u965|     p0493|     357|   2|\n",
      "|   u001|     p0367|     178|   4|\n",
      "|   u001|     p0377|      92|   2|\n",
      "|   u667|     p0339|     440|   4|\n",
      "|   u001|     p0083|      84|   4|\n",
      "|   u813|     p0308|      51|   0|\n",
      "|   u001|     p0406|      51|   4|\n",
      "|   u001|     p0383|     461|   1|\n",
      "|   u001|     p0303|      66|   1|\n",
      "|   u222|     p0412|     123|   4|\n",
      "|   u176|     p0361|     294|   3|\n",
      "|   u345|     p0241|     432|   1|\n",
      "|   u001|     p0484|      18|   3|\n",
      "|   u001|     p0003|      99|   4|\n",
      "|   u101|     p0492|     413|   1|\n",
      "|   u001|     p0345|     119|   4|\n",
      "+-------+----------+--------+----+\n",
      "only showing top 20 rows\n"
     ]
    }
   ],
   "source": [
    "spark.sql('select * from TempView').show()"
   ]
  },
  {
   "cell_type": "code",
   "execution_count": 24,
   "id": "43fc27ca-f2dd-404e-add8-68ea5a8bf7bb",
   "metadata": {},
   "outputs": [],
   "source": [
    "spark.stop()"
   ]
  },
  {
   "cell_type": "code",
   "execution_count": null,
   "id": "bea96119-bcd3-4918-951e-aad850edebb1",
   "metadata": {},
   "outputs": [],
   "source": []
  }
 ],
 "metadata": {
  "kernelspec": {
   "display_name": "Python 3 (ipykernel)",
   "language": "python",
   "name": "python3"
  },
  "language_info": {
   "codemirror_mode": {
    "name": "ipython",
    "version": 3
   },
   "file_extension": ".py",
   "mimetype": "text/x-python",
   "name": "python",
   "nbconvert_exporter": "python",
   "pygments_lexer": "ipython3",
   "version": "3.12.7"
  }
 },
 "nbformat": 4,
 "nbformat_minor": 5
}
