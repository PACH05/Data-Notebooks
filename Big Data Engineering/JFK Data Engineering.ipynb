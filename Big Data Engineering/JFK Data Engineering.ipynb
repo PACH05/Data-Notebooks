{
 "cells": [
  {
   "cell_type": "code",
   "execution_count": 1,
   "id": "d62fcec2-3618-4cdf-ad76-e0b7fe96d6a6",
   "metadata": {},
   "outputs": [
    {
     "name": "stdout",
     "output_type": "stream",
     "text": [
      "Requirement already satisfied: pyspark in d:\\anaconda\\lib\\site-packages (4.0.0)\n",
      "Requirement already satisfied: py4j==0.10.9.9 in d:\\anaconda\\lib\\site-packages (from pyspark) (0.10.9.9)\n"
     ]
    }
   ],
   "source": [
    "# !pip install pyspark"
   ]
  },
  {
   "cell_type": "code",
   "execution_count": 2,
   "id": "b8565faa-7f6b-4123-a28b-42221016c1ba",
   "metadata": {},
   "outputs": [],
   "source": [
    "from pyspark.sql import SparkSession"
   ]
  },
  {
   "cell_type": "code",
   "execution_count": 3,
   "id": "7d626312-a768-4094-a57f-26520e96d83a",
   "metadata": {},
   "outputs": [],
   "source": [
    "spark = SparkSession.builder.getOrCreate()"
   ]
  },
  {
   "cell_type": "code",
   "execution_count": 24,
   "id": "9f9f6399-72b6-40ca-ac34-d8b5051ba635",
   "metadata": {},
   "outputs": [],
   "source": [
    "file_path = \"file:///C:/Users/PRASANTA/Documents/Notebooks-Practice/Dataset/Airline_Delay_Cause.csv\""
   ]
  },
  {
   "cell_type": "code",
   "execution_count": 25,
   "id": "5929c8eb-8433-45ef-bca4-487f2266fa25",
   "metadata": {},
   "outputs": [],
   "source": [
    "df = spark.read.csv(file_path,  header=True)"
   ]
  },
  {
   "cell_type": "code",
   "execution_count": 26,
   "id": "8b81e9af-3e1c-4494-a12b-a4443aa922db",
   "metadata": {},
   "outputs": [
    {
     "name": "stdout",
     "output_type": "stream",
     "text": [
      "+----+-----+-------+--------------------+-------+--------------------+-----------+---------+----------+----------+------+-----------+----------------+-------------+------------+---------+-------------+-------------+---------+--------------+-------------------+\n",
      "|year|month|carrier|        carrier_name|airport|        airport_name|arr_flights|arr_del15|carrier_ct|weather_ct|nas_ct|security_ct|late_aircraft_ct|arr_cancelled|arr_diverted|arr_delay|carrier_delay|weather_delay|nas_delay|security_delay|late_aircraft_delay|\n",
      "+----+-----+-------+--------------------+-------+--------------------+-----------+---------+----------+----------+------+-----------+----------------+-------------+------------+---------+-------------+-------------+---------+--------------+-------------------+\n",
      "|2025|    3|     HA|Hawaiian Airlines...|    JFK|New York, NY: Joh...|      31.00|     9.00|      6.46|      1.00|  0.22|       0.00|            1.31|         0.00|        0.00|   758.00|       505.00|       107.00|    24.00|          0.00|             122.00|\n",
      "|2025|    3|     OO|SkyWest Airlines ...|    JFK|New York, NY: Joh...|     149.00|    36.00|     21.73|      5.12|  9.16|       0.00|            0.00|         0.00|        0.00|  3265.00|      1917.00|       468.00|   880.00|          0.00|               0.00|\n",
      "|2025|    3|     YX|    Republic Airline|    JFK|New York, NY: Joh...|    1332.00|   228.00|     56.98|      9.17|114.07|       0.00|           47.78|        16.00|        3.00| 16584.00|      4120.00|      1100.00|  7775.00|          0.00|            3589.00|\n",
      "|2025|    3|     9E|   Endeavor Air Inc.|    JFK|New York, NY: Joh...|    1622.00|   270.00|     54.69|     10.03|111.05|       0.00|           94.23|        28.00|        4.00| 25055.00|      6027.00|      1587.00| 10287.00|          0.00|            7154.00|\n",
      "|2025|    3|     AA|American Airlines...|    JFK|New York, NY: Joh...|    1210.00|   275.00|     73.62|      7.13|114.23|       1.56|           78.45|         6.00|       13.00| 24890.00|      8706.00|       858.00|  7104.00|         57.00|            8165.00|\n",
      "+----+-----+-------+--------------------+-------+--------------------+-----------+---------+----------+----------+------+-----------+----------------+-------------+------------+---------+-------------+-------------+---------+--------------+-------------------+\n",
      "only showing top 5 rows\n"
     ]
    }
   ],
   "source": [
    "df.show(5)"
   ]
  },
  {
   "cell_type": "code",
   "execution_count": 27,
   "id": "ed948e50-9509-484f-b0d0-64797a3d32bf",
   "metadata": {},
   "outputs": [
    {
     "data": {
      "text/plain": [
       "130"
      ]
     },
     "execution_count": 27,
     "metadata": {},
     "output_type": "execute_result"
    }
   ],
   "source": [
    "df.count()"
   ]
  },
  {
   "cell_type": "code",
   "execution_count": 30,
   "id": "5d261ea7-f5c6-45e3-9eae-c9b5e74ea938",
   "metadata": {},
   "outputs": [
    {
     "name": "stdout",
     "output_type": "stream",
     "text": [
      "root\n",
      " |-- year: string (nullable = true)\n",
      " |-- month: string (nullable = true)\n",
      " |-- carrier: string (nullable = true)\n",
      " |-- carrier_name: string (nullable = true)\n",
      " |-- airport: string (nullable = true)\n",
      " |-- airport_name: string (nullable = true)\n",
      " |-- arr_flights: string (nullable = true)\n",
      " |-- arr_del15: string (nullable = true)\n",
      " |-- carrier_ct: string (nullable = true)\n",
      " |-- weather_ct: string (nullable = true)\n",
      " |-- nas_ct: string (nullable = true)\n",
      " |-- security_ct: string (nullable = true)\n",
      " |-- late_aircraft_ct: string (nullable = true)\n",
      " |-- arr_cancelled: string (nullable = true)\n",
      " |-- arr_diverted: string (nullable = true)\n",
      " |-- arr_delay: string (nullable = true)\n",
      " |-- carrier_delay: string (nullable = true)\n",
      " |-- weather_delay: string (nullable = true)\n",
      " |-- nas_delay: string (nullable = true)\n",
      " |-- security_delay: string (nullable = true)\n",
      " |-- late_aircraft_delay: string (nullable = true)\n",
      "\n"
     ]
    }
   ],
   "source": [
    "df.printSchema()"
   ]
  },
  {
   "cell_type": "code",
   "execution_count": 38,
   "id": "868dcac9-59fc-4958-921b-f300f6471483",
   "metadata": {},
   "outputs": [
    {
     "name": "stdout",
     "output_type": "stream",
     "text": [
      "+--------------------+\n",
      "|        carrier_name|\n",
      "+--------------------+\n",
      "|Hawaiian Airlines...|\n",
      "|Alaska Airlines N...|\n",
      "|   Endeavor Air Inc.|\n",
      "|Delta Air Lines N...|\n",
      "|SkyWest Airlines ...|\n",
      "|American Airlines...|\n",
      "|    Republic Airline|\n",
      "|   Frontier Airlines|\n",
      "|     JetBlue Airways|\n",
      "+--------------------+\n",
      "\n"
     ]
    }
   ],
   "source": [
    "df.select('carrier_name').distinct().show()"
   ]
  },
  {
   "cell_type": "code",
   "execution_count": 50,
   "id": "81df9468-afdc-4075-942e-ffe2d0ffe1df",
   "metadata": {},
   "outputs": [],
   "source": [
    "from pyspark.sql.functions import count,mean"
   ]
  },
  {
   "cell_type": "code",
   "execution_count": 52,
   "id": "54d986f8-0746-4e87-b99e-2b838acd6174",
   "metadata": {},
   "outputs": [
    {
     "name": "stdout",
     "output_type": "stream",
     "text": [
      "+--------------------+------------+\n",
      "|        carrier_name|Flight_Count|\n",
      "+--------------------+------------+\n",
      "|Hawaiian Airlines...|          15|\n",
      "|Alaska Airlines N...|          15|\n",
      "|   Endeavor Air Inc.|          15|\n",
      "|Delta Air Lines N...|          15|\n",
      "|SkyWest Airlines ...|          15|\n",
      "|American Airlines...|          15|\n",
      "|    Republic Airline|          15|\n",
      "|   Frontier Airlines|          10|\n",
      "|     JetBlue Airways|          15|\n",
      "+--------------------+------------+\n",
      "\n"
     ]
    }
   ],
   "source": [
    "#Count of Flight by Carrer\n",
    "df.groupBy('carrier_name').agg(count(\"*\").alias(\"Flight_Count\")).show()"
   ]
  },
  {
   "cell_type": "code",
   "execution_count": 54,
   "id": "8265b7e9-49f9-4f01-b4fc-031804d4ba11",
   "metadata": {},
   "outputs": [
    {
     "name": "stdout",
     "output_type": "stream",
     "text": [
      "+--------------------+---------------------+\n",
      "|        carrier_name|Average Arrival Delay|\n",
      "+--------------------+---------------------+\n",
      "|Hawaiian Airlines...|                429.2|\n",
      "|Alaska Airlines N...|    4227.866666666667|\n",
      "|   Endeavor Air Inc.|   21900.866666666665|\n",
      "|Delta Air Lines N...|              39909.6|\n",
      "|SkyWest Airlines ...|   4048.6666666666665|\n",
      "|American Airlines...|   23852.733333333334|\n",
      "|    Republic Airline|   14748.133333333333|\n",
      "|   Frontier Airlines|               1993.3|\n",
      "|     JetBlue Airways|              63321.2|\n",
      "+--------------------+---------------------+\n",
      "\n"
     ]
    }
   ],
   "source": [
    "#Mean Arrival Delay\n",
    "df.groupBy('carrier_name').agg(mean('arr_delay').alias('Average Arrival Delay')).show()"
   ]
  },
  {
   "cell_type": "code",
   "execution_count": 56,
   "id": "0c473f23-b518-45a1-8a5c-29272475271b",
   "metadata": {},
   "outputs": [
    {
     "name": "stdout",
     "output_type": "stream",
     "text": [
      "+--------------------+----+----+\n",
      "|   carrier_name_year|2024|2025|\n",
      "+--------------------+----+----+\n",
      "|Hawaiian Airlines...|  12|   3|\n",
      "|Alaska Airlines N...|  12|   3|\n",
      "|   Endeavor Air Inc.|  12|   3|\n",
      "|Delta Air Lines N...|  12|   3|\n",
      "|SkyWest Airlines ...|  12|   3|\n",
      "|American Airlines...|  12|   3|\n",
      "|    Republic Airline|  12|   3|\n",
      "|   Frontier Airlines|   7|   3|\n",
      "|     JetBlue Airways|  12|   3|\n",
      "+--------------------+----+----+\n",
      "\n"
     ]
    }
   ],
   "source": [
    "#Contingency Table\n",
    "df.crosstab('carrier_name', 'year').show()"
   ]
  },
  {
   "cell_type": "code",
   "execution_count": 57,
   "id": "37e46dac-f569-4c50-93a6-40209ba5fedb",
   "metadata": {},
   "outputs": [],
   "source": [
    "spark.stop()"
   ]
  },
  {
   "cell_type": "code",
   "execution_count": null,
   "id": "c1ffba75-a3d2-424c-a2e5-24180156a4de",
   "metadata": {},
   "outputs": [],
   "source": []
  }
 ],
 "metadata": {
  "kernelspec": {
   "display_name": "Python 3 (ipykernel)",
   "language": "python",
   "name": "python3"
  },
  "language_info": {
   "codemirror_mode": {
    "name": "ipython",
    "version": 3
   },
   "file_extension": ".py",
   "mimetype": "text/x-python",
   "name": "python",
   "nbconvert_exporter": "python",
   "pygments_lexer": "ipython3",
   "version": "3.12.7"
  }
 },
 "nbformat": 4,
 "nbformat_minor": 5
}
