{
 "cells": [
  {
   "cell_type": "code",
   "execution_count": 1,
   "id": "75084500-fe87-4b25-a330-cfb02bcd3787",
   "metadata": {},
   "outputs": [
    {
     "name": "stdout",
     "output_type": "stream",
     "text": [
      "Requirement already satisfied: pyspark in d:\\anaconda\\lib\\site-packages (4.0.0)\n",
      "Requirement already satisfied: py4j==0.10.9.9 in d:\\anaconda\\lib\\site-packages (from pyspark) (0.10.9.9)\n"
     ]
    }
   ],
   "source": [
    "!pip install pyspark"
   ]
  },
  {
   "cell_type": "code",
   "execution_count": 1,
   "id": "eb9a7782-0a6f-42bc-9e8e-446b01b01163",
   "metadata": {},
   "outputs": [],
   "source": [
    "from pyspark.sql import SparkSession"
   ]
  },
  {
   "cell_type": "code",
   "execution_count": 2,
   "id": "3f5fa02b-cfab-4fea-8cb5-070afd398519",
   "metadata": {},
   "outputs": [],
   "source": [
    "spark = SparkSession.builder.getOrCreate()"
   ]
  },
  {
   "cell_type": "code",
   "execution_count": 3,
   "id": "fc028252-5037-4d1a-bd3f-1ca5c1b702b1",
   "metadata": {},
   "outputs": [],
   "source": [
    "df = spark.read.csv('./survey.csv', header=True)"
   ]
  },
  {
   "cell_type": "code",
   "execution_count": 4,
   "id": "d872c72d-d9c5-4064-a71f-e44fde37ab3f",
   "metadata": {},
   "outputs": [],
   "source": [
    "df = df.withColumnRenamed(\"rownames\", \"id\")"
   ]
  },
  {
   "cell_type": "code",
   "execution_count": 5,
   "id": "1d166938-1bb2-479b-81b6-0b55c4dbc951",
   "metadata": {},
   "outputs": [
    {
     "data": {
      "text/plain": [
       "237"
      ]
     },
     "execution_count": 5,
     "metadata": {},
     "output_type": "execute_result"
    }
   ],
   "source": [
    "df.count()"
   ]
  },
  {
   "cell_type": "code",
   "execution_count": 6,
   "id": "3ad0a8e4-96a7-4539-8c97-c35ab3d9018c",
   "metadata": {},
   "outputs": [
    {
     "name": "stdout",
     "output_type": "stream",
     "text": [
      "root\n",
      " |-- id: string (nullable = true)\n",
      " |-- Sex: string (nullable = true)\n",
      " |-- Wr.Hnd: string (nullable = true)\n",
      " |-- NW.Hnd: string (nullable = true)\n",
      " |-- W.Hnd: string (nullable = true)\n",
      " |-- Fold: string (nullable = true)\n",
      " |-- Pulse: string (nullable = true)\n",
      " |-- Clap: string (nullable = true)\n",
      " |-- Exer: string (nullable = true)\n",
      " |-- Smoke: string (nullable = true)\n",
      " |-- Height: string (nullable = true)\n",
      " |-- M.I: string (nullable = true)\n",
      " |-- Age: string (nullable = true)\n",
      "\n"
     ]
    }
   ],
   "source": [
    "df.printSchema()"
   ]
  },
  {
   "cell_type": "code",
   "execution_count": 8,
   "id": "c9381693-b336-40b2-b9cc-baae6f981404",
   "metadata": {},
   "outputs": [],
   "source": [
    "df2 = df.limit(5)"
   ]
  },
  {
   "cell_type": "code",
   "execution_count": 30,
   "id": "cbcd5fc9-a823-45e7-8961-68aca7a553c0",
   "metadata": {},
   "outputs": [
    {
     "name": "stdout",
     "output_type": "stream",
     "text": [
      "+---+------+------+------+-----+-------+-----+-------+----+-----+------+--------+------+\n",
      "| id|   Sex|Wr.Hnd|NW.Hnd|W.Hnd|   Fold|Pulse|   Clap|Exer|Smoke|Height|     M.I|   Age|\n",
      "+---+------+------+------+-----+-------+-----+-------+----+-----+------+--------+------+\n",
      "|  1|Female|  18.5|    18|Right| R on L|   92|   Left|Some|Never|   173|  Metric| 18.25|\n",
      "|  2|  Male|  19.5|  20.5| Left| R on L|  104|   Left|None|Regul| 177.8|Imperial|17.583|\n",
      "|  3|  Male|    18|  13.3|Right| L on R|   87|Neither|None|Occas|  NULL|    NULL|16.917|\n",
      "|  4|  Male|  18.8|  18.9|Right| R on L| NULL|Neither|None|Never|   160|  Metric|20.333|\n",
      "|  5|  Male|    20|    20|Right|Neither|   35|  Right|Some|Never|   165|  Metric|23.667|\n",
      "+---+------+------+------+-----+-------+-----+-------+----+-----+------+--------+------+\n",
      "only showing top 5 rows\n"
     ]
    }
   ],
   "source": [
    "df.show(5)"
   ]
  },
  {
   "cell_type": "code",
   "execution_count": 31,
   "id": "60aeb7f5-5430-4bd4-9f3f-ab143fe2a9cc",
   "metadata": {},
   "outputs": [
    {
     "name": "stdout",
     "output_type": "stream",
     "text": [
      "+---+------+------+------+-----+-------+-----+-------+----+-----+------+--------+------+\n",
      "| id|   Sex|Wr.Hnd|NW.Hnd|W.Hnd|   Fold|Pulse|   Clap|Exer|Smoke|Height|     M.I|   Age|\n",
      "+---+------+------+------+-----+-------+-----+-------+----+-----+------+--------+------+\n",
      "|  1|Female|  18.5|    18|Right| R on L|   92|   Left|Some|Never|   173|  Metric| 18.25|\n",
      "|  2|  Male|  19.5|  20.5| Left| R on L|  104|   Left|None|Regul| 177.8|Imperial|17.583|\n",
      "|  3|  Male|    18|  13.3|Right| L on R|   87|Neither|None|Occas|  NULL|    NULL|16.917|\n",
      "|  4|  Male|  18.8|  18.9|Right| R on L| NULL|Neither|None|Never|   160|  Metric|20.333|\n",
      "|  5|  Male|    20|    20|Right|Neither|   35|  Right|Some|Never|   165|  Metric|23.667|\n",
      "+---+------+------+------+-----+-------+-----+-------+----+-----+------+--------+------+\n",
      "\n"
     ]
    }
   ],
   "source": [
    "df2.show()"
   ]
  },
  {
   "cell_type": "code",
   "execution_count": 11,
   "id": "f8ae8dbb-dc5b-4fef-bb6a-416538920e14",
   "metadata": {},
   "outputs": [],
   "source": [
    "from pyspark.sql.functions import broadcast"
   ]
  },
  {
   "cell_type": "markdown",
   "id": "f557c91d-3699-476e-9d2b-a4d50a8b6b4f",
   "metadata": {},
   "source": [
    "df is the larger dataset and df2 is the smaller dataset.\n",
    "So we use Broadcast Join to optimize the join"
   ]
  },
  {
   "cell_type": "code",
   "execution_count": 12,
   "id": "4da38b67-8d0c-44df-9d49-b7067011f2f8",
   "metadata": {},
   "outputs": [],
   "source": [
    "joined_df = df.join(broadcast(df2), on=\"id\", how=\"inner\")"
   ]
  },
  {
   "cell_type": "code",
   "execution_count": 13,
   "id": "21a167c7-2894-4284-8c0f-8df4674d0f8e",
   "metadata": {},
   "outputs": [],
   "source": [
    "spark.stop()"
   ]
  }
 ],
 "metadata": {
  "kernelspec": {
   "display_name": "Python 3 (ipykernel)",
   "language": "python",
   "name": "python3"
  },
  "language_info": {
   "codemirror_mode": {
    "name": "ipython",
    "version": 3
   },
   "file_extension": ".py",
   "mimetype": "text/x-python",
   "name": "python",
   "nbconvert_exporter": "python",
   "pygments_lexer": "ipython3",
   "version": "3.12.7"
  }
 },
 "nbformat": 4,
 "nbformat_minor": 5
}
