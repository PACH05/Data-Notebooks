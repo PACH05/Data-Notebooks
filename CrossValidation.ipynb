{
 "cells": [
  {
   "cell_type": "code",
   "execution_count": 1,
   "id": "f3b2bf33-e046-4e26-b6ec-a8971f4bad66",
   "metadata": {},
   "outputs": [],
   "source": [
    "import pandas as pd"
   ]
  },
  {
   "cell_type": "code",
   "execution_count": 2,
   "id": "4939c2be-709a-4301-ad31-9922b003c7f4",
   "metadata": {},
   "outputs": [],
   "source": [
    "from sklearn.datasets import load_iris"
   ]
  },
  {
   "cell_type": "code",
   "execution_count": 3,
   "id": "61d2bfa5-bed0-4807-b43c-558b6705b3fd",
   "metadata": {},
   "outputs": [],
   "source": [
    "iris = load_iris()"
   ]
  },
  {
   "cell_type": "code",
   "execution_count": 4,
   "id": "82bad133-cd0d-43a4-b376-a8097a2f679b",
   "metadata": {},
   "outputs": [],
   "source": [
    "X, Y = iris.data, iris.target"
   ]
  },
  {
   "cell_type": "code",
   "execution_count": 5,
   "id": "3faf7309-8731-44e9-8d5e-a00a515920d2",
   "metadata": {},
   "outputs": [],
   "source": [
    "from sklearn.model_selection import KFold, cross_val_score, StratifiedKFold"
   ]
  },
  {
   "cell_type": "code",
   "execution_count": 6,
   "id": "e2ad7f06-f656-4321-bb05-c171122a0282",
   "metadata": {},
   "outputs": [],
   "source": [
    "from sklearn.linear_model import LogisticRegression\n",
    "from sklearn.model_selection import train_test_split"
   ]
  },
  {
   "cell_type": "code",
   "execution_count": 7,
   "id": "91b3a838-86d1-4b1c-9d9a-f965223987be",
   "metadata": {},
   "outputs": [],
   "source": [
    "X_train, X_test, Y_train, Y_test = train_test_split(X, Y, test_size = 0.25, random_state = 42)"
   ]
  },
  {
   "cell_type": "code",
   "execution_count": 8,
   "id": "5c08699a-ce34-4cab-ab65-5c448d4b0796",
   "metadata": {},
   "outputs": [],
   "source": [
    "LR = LogisticRegression()"
   ]
  },
  {
   "cell_type": "code",
   "execution_count": 9,
   "id": "a3a67016-e877-42d4-98c8-1342aef676d3",
   "metadata": {},
   "outputs": [
    {
     "name": "stdout",
     "output_type": "stream",
     "text": [
      "Cross Validation Scores: [1.         0.89285714 1.         0.96428571]\n",
      "Average CV Score:  0.9642857142857143\n",
      "4\n"
     ]
    }
   ],
   "source": [
    "k_folds = KFold(n_splits = 4) #Four Fold Cross Validation\n",
    "scores = cross_val_score(LR, X_train, Y_train, cv = k_folds)\n",
    "print(\"Cross Validation Scores:\", scores)\n",
    "print(\"Average CV Score: \", scores.mean())\n",
    "print(len(scores))"
   ]
  },
  {
   "cell_type": "code",
   "execution_count": 10,
   "id": "adf463d1-65d3-4fd7-a5d4-c706ba2ea463",
   "metadata": {},
   "outputs": [],
   "source": [
    "skf = StratifiedKFold(n_splits = 4)"
   ]
  },
  {
   "cell_type": "code",
   "execution_count": 11,
   "id": "89040ad1-3303-46bf-9c61-27d3dc3bc152",
   "metadata": {},
   "outputs": [],
   "source": [
    "scores_skf = cross_val_score(LR, X_train, Y_train, cv = skf)"
   ]
  },
  {
   "cell_type": "code",
   "execution_count": 12,
   "id": "203c7696-9064-4012-aa37-54f77d3d2ac9",
   "metadata": {},
   "outputs": [
    {
     "name": "stdout",
     "output_type": "stream",
     "text": [
      "Cross Validation Scores: [1.         0.89285714 0.92857143 0.96428571]\n",
      "Average CV Score:  0.9464285714285714\n"
     ]
    }
   ],
   "source": [
    "print(\"Cross Validation Scores:\", scores_skf)\n",
    "print(\"Average CV Score: \", scores_skf.mean())"
   ]
  },
  {
   "cell_type": "code",
   "execution_count": 13,
   "id": "f6bf5652-5655-48ce-8432-e8771a7e8c59",
   "metadata": {},
   "outputs": [],
   "source": [
    "lrr = LR.fit(X_train, Y_train)"
   ]
  },
  {
   "cell_type": "code",
   "execution_count": 14,
   "id": "4921cb04-b99f-47ee-9f1d-a7233f160f8d",
   "metadata": {},
   "outputs": [],
   "source": [
    "result = lrr.predict(X_test)"
   ]
  },
  {
   "cell_type": "code",
   "execution_count": 15,
   "id": "83fe06e6-ffe9-4ad6-8f2c-dd32ea53eae2",
   "metadata": {},
   "outputs": [],
   "source": [
    "from sklearn.metrics import confusion_matrix"
   ]
  },
  {
   "cell_type": "code",
   "execution_count": 16,
   "id": "25bc8b61-c42d-4c8a-bf8d-434057594b17",
   "metadata": {},
   "outputs": [],
   "source": [
    "cfm = confusion_matrix(Y_test,result)"
   ]
  },
  {
   "cell_type": "code",
   "execution_count": 17,
   "id": "3b22135c-c089-4cb5-9ec6-ce167448ccfb",
   "metadata": {},
   "outputs": [],
   "source": [
    "import seaborn as sns"
   ]
  },
  {
   "cell_type": "code",
   "execution_count": 18,
   "id": "4dcc55eb-fdc8-4b49-922a-83300af76df0",
   "metadata": {},
   "outputs": [
    {
     "data": {
      "text/plain": [
       "array([1, 0, 2, 1, 1, 0, 1, 2, 1, 1, 2, 0, 0, 0, 0, 1, 2, 1, 1, 2, 0, 2,\n",
       "       0, 2, 2, 2, 2, 2, 0, 0, 0, 0, 1, 0, 0, 2, 1, 0])"
      ]
     },
     "execution_count": 18,
     "metadata": {},
     "output_type": "execute_result"
    }
   ],
   "source": [
    "Y_test"
   ]
  },
  {
   "cell_type": "code",
   "execution_count": 19,
   "id": "6573c865-5d4c-4a55-a804-5f1e7de199ee",
   "metadata": {},
   "outputs": [
    {
     "data": {
      "text/plain": [
       "<Axes: >"
      ]
     },
     "execution_count": 19,
     "metadata": {},
     "output_type": "execute_result"
    },
    {
     "data": {
      "image/png": "[encoded data removed]",
      "text/plain": [
       "<Figure size 640x480 with 2 Axes>"
      ]
     },
     "metadata": {},
     "output_type": "display_data"
    }
   ],
   "source": [
    "sns.heatmap(cfm, annot=True)"
   ]
  },
  {
   "cell_type": "code",
   "execution_count": 20,
   "id": "9c1811e7-9e18-4a5b-9b20-53a8761489cf",
   "metadata": {},
   "outputs": [],
   "source": [
    "from sklearn.metrics import r2_score"
   ]
  },
  {
   "cell_type": "code",
   "execution_count": 21,
   "id": "df8e3f1b-80a0-421d-bf71-8e9710720d99",
   "metadata": {},
   "outputs": [],
   "source": [
    "r2 = r2_score(Y_test, result)"
   ]
  },
  {
   "cell_type": "code",
   "execution_count": 22,
   "id": "1e699088-a5f3-4f83-823d-f864faa76bcc",
   "metadata": {},
   "outputs": [
    {
     "name": "stdout",
     "output_type": "stream",
     "text": [
      "R² Score :  1.0\n"
     ]
    }
   ],
   "source": [
    "print(\"R² Score : \", r2)"
   ]
  },
  {
   "cell_type": "code",
   "execution_count": null,
   "id": "fef66171-5a13-486a-97ce-4b84f7ac7fcf",
   "metadata": {},
   "outputs": [],
   "source": []
  }
 ],
 "metadata": {
  "kernelspec": {
   "display_name": "Python 3 (ipykernel)",
   "language": "python",
   "name": "python3"
  },
  "language_info": {
   "codemirror_mode": {
    "name": "ipython",
    "version": 3
   },
   "file_extension": ".py",
   "mimetype": "text/x-python",
   "name": "python",
   "nbconvert_exporter": "python",
   "pygments_lexer": "ipython3",
   "version": "3.12.7"
  }
 },
 "nbformat": 4,
 "nbformat_minor": 5
}
