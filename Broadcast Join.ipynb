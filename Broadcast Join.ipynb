{
 "cells": [
  {
   "cell_type": "code",
   "execution_count": 3,
   "id": "2a3d8a07-22b6-4935-a335-f072802b8d96",
   "metadata": {},
   "outputs": [
    {
     "name": "stdout",
     "output_type": "stream",
     "text": [
      "Requirement already satisfied: pyspark in d:\\anaconda\\lib\\site-packages (4.0.0)\n",
      "Requirement already satisfied: py4j==0.10.9.9 in d:\\anaconda\\lib\\site-packages (from pyspark) (0.10.9.9)\n"
     ]
    }
   ],
   "source": [
    "!pip install pyspark"
   ]
  },
  {
   "cell_type": "code",
   "execution_count": 4,
   "id": "355942db-2051-486b-adc1-48583a4a140f",
   "metadata": {},
   "outputs": [],
   "source": [
    "from pyspark.sql import SparkSession"
   ]
  },
  {
   "cell_type": "code",
   "execution_count": 5,
   "id": "eb694c74-fb36-451a-afa7-6c51ff564367",
   "metadata": {},
   "outputs": [],
   "source": [
    "spark = SparkSession.builder.getOrCreate()"
   ]
  },
  {
   "cell_type": "code",
   "execution_count": 8,
   "id": "3de7cb06-06ab-4f37-863b-c4899ce4a3e9",
   "metadata": {},
   "outputs": [],
   "source": [
    "df1 = spark.read.csv('./Dataset/taxi_zone_lookup.csv', header=True)"
   ]
  },
  {
   "cell_type": "code",
   "execution_count": 20,
   "id": "25b521c7-5e57-4651-8859-dfc38a97907d",
   "metadata": {},
   "outputs": [
    {
     "name": "stdout",
     "output_type": "stream",
     "text": [
      "+----------+-------------+--------------------+------------+\n",
      "|LocationID|      Borough|                Zone|service_zone|\n",
      "+----------+-------------+--------------------+------------+\n",
      "|         1|          EWR|      Newark Airport|         EWR|\n",
      "|         2|       Queens|         Jamaica Bay|   Boro Zone|\n",
      "|         3|        Bronx|Allerton/Pelham G...|   Boro Zone|\n",
      "|         4|    Manhattan|       Alphabet City| Yellow Zone|\n",
      "|         5|Staten Island|       Arden Heights|   Boro Zone|\n",
      "|         6|Staten Island|Arrochar/Fort Wad...|   Boro Zone|\n",
      "|         7|       Queens|             Astoria|   Boro Zone|\n",
      "|         8|       Queens|        Astoria Park|   Boro Zone|\n",
      "|         9|       Queens|          Auburndale|   Boro Zone|\n",
      "|        10|       Queens|        Baisley Park|   Boro Zone|\n",
      "|        11|     Brooklyn|          Bath Beach|   Boro Zone|\n",
      "|        12|    Manhattan|        Battery Park| Yellow Zone|\n",
      "|        13|    Manhattan|   Battery Park City| Yellow Zone|\n",
      "|        14|     Brooklyn|           Bay Ridge|   Boro Zone|\n",
      "|        15|       Queens|Bay Terrace/Fort ...|   Boro Zone|\n",
      "|        16|       Queens|             Bayside|   Boro Zone|\n",
      "|        17|     Brooklyn|             Bedford|   Boro Zone|\n",
      "|        18|        Bronx|        Bedford Park|   Boro Zone|\n",
      "|        19|       Queens|           Bellerose|   Boro Zone|\n",
      "|        20|        Bronx|             Belmont|   Boro Zone|\n",
      "+----------+-------------+--------------------+------------+\n",
      "only showing top 20 rows\n"
     ]
    }
   ],
   "source": [
    "df1.show()"
   ]
  },
  {
   "cell_type": "code",
   "execution_count": 10,
   "id": "61c02eea-3d8b-42c7-87a8-7508734c3f01",
   "metadata": {},
   "outputs": [],
   "source": [
    "df2 = spark.read.parquet('./Dataset/BigTable.parquet', header=True)"
   ]
  },
  {
   "cell_type": "code",
   "execution_count": 11,
   "id": "68151c0f-5779-4e56-a02f-721cd73073be",
   "metadata": {},
   "outputs": [
    {
     "name": "stdout",
     "output_type": "stream",
     "text": [
      "+-----------------+--------------------+--------------------+-------------------+-------------------+-------------------+-------------------+------------+------------+----------+---------+-------------------+-----+----+---------+--------------------+-----------+----+----------+-------------------+-----------------+------------------+----------------+--------------+\n",
      "|hvfhs_license_num|dispatching_base_num|originating_base_num|   request_datetime|  on_scene_datetime|    pickup_datetime|   dropoff_datetime|PULocationID|DOLocationID|trip_miles|trip_time|base_passenger_fare|tolls| bcf|sales_tax|congestion_surcharge|airport_fee|tips|driver_pay|shared_request_flag|shared_match_flag|access_a_ride_flag|wav_request_flag|wav_match_flag|\n",
      "+-----------------+--------------------+--------------------+-------------------+-------------------+-------------------+-------------------+------------+------------+----------+---------+-------------------+-----+----+---------+--------------------+-----------+----+----------+-------------------+-----------------+------------------+----------------+--------------+\n",
      "|           HV0003|              B03404|              B03404|2024-07-01 00:13:16|2024-07-01 00:18:28|2024-07-01 00:19:43|2024-07-01 00:40:35|         138|         141|      8.84|     1252|              50.49|  0.0|1.46|      4.7|                2.75|        2.5|9.28|     24.19|                  N|                N|                 N|               N|             N|\n",
      "|           HV0003|              B03404|              B03404|2024-07-01 00:16:44|2024-07-01 00:18:58|2024-07-01 00:21:00|2024-07-01 00:41:24|          61|          80|      3.96|     1224|              25.02|  0.0|0.69|     2.22|                 0.0|        0.0| 0.0|     19.37|                  N|                N|                 N|               N|             N|\n",
      "|           HV0003|              B03404|              B03404|2024-07-01 00:38:38|2024-07-01 00:45:10|2024-07-01 00:45:10|2024-07-01 01:01:05|          36|         260|      5.61|      955|              20.76|  0.0|0.57|     1.84|                 0.0|        0.0| 0.0|     12.08|                  Y|                Y|                 N|               N|             N|\n",
      "|           HV0003|              B03404|              B03404|2024-07-01 00:38:26|2024-07-01 00:48:38|2024-07-01 00:49:01|2024-07-01 01:15:02|          80|          42|     11.24|     1561|              38.66| 6.94|1.07|     4.05|                 0.0|        0.0| 0.0|     25.64|                  Y|                Y|                 N|               N|             N|\n",
      "|           HV0003|              B03404|              B03404|2024-07-01 00:34:57|2024-07-01 00:40:58|2024-07-01 00:41:36|2024-07-01 00:49:48|         152|          41|       1.6|      492|              11.61|  0.0|0.32|     1.03|                 0.0|        0.0| 5.0|      7.11|                  N|                N|                 N|               N|             N|\n",
      "|           HV0005|              B03406|                NULL|2024-07-01 00:36:16|               NULL|2024-07-01 00:44:05|2024-07-01 00:54:37|         138|          92|     3.343|      632|              19.28|  0.0| 0.6|     1.93|                 0.0|        2.5| 0.0|     11.45|                  N|                N|                 N|               N|             N|\n",
      "|           HV0003|              B03404|              B03404|2024-07-01 00:05:41|2024-07-01 00:09:27|2024-07-01 00:09:49|2024-07-01 00:35:52|         164|          17|      5.52|     1563|              34.69|  0.0|1.01|     3.27|                2.75|        0.0| 0.0|     25.95|                  N|                N|                 N|               N|             N|\n",
      "|           HV0003|              B03404|              B03404|2024-07-01 00:36:11|2024-07-01 00:40:27|2024-07-01 00:41:13|2024-07-01 00:49:39|          37|         225|      1.68|      506|               12.6|  0.0|0.37|     1.19|                 0.0|        0.0| 0.0|      8.19|                  N|                N|                 N|               N|             N|\n",
      "|           HV0003|              B03404|              B03404|2024-07-01 00:48:32|2024-07-01 00:50:15|2024-07-01 00:51:13|2024-07-01 01:21:50|         225|          79|      6.86|     1837|              17.49|  0.0|0.48|     1.55|                0.75|        0.0| 0.0|     16.04|                  Y|                Y|                 N|               N|             N|\n",
      "|           HV0003|              B03404|              B03404|2024-07-01 00:47:59|2024-07-01 00:52:47|2024-07-01 00:53:03|2024-07-01 01:01:39|          17|          49|      1.37|      516|               4.87|  0.0|0.13|     0.43|                 0.0|        0.0| 0.0|      2.95|                  Y|                Y|                 N|               N|             N|\n",
      "|           HV0003|              B03404|              B03404|2024-07-01 00:47:57|2024-07-01 00:57:27|2024-07-01 00:57:57|2024-07-01 01:16:44|          17|         148|      4.69|     1127|               14.8|  0.0|0.41|     1.31|                0.75|        0.0| 0.0|      8.17|                  Y|                Y|                 N|               N|             N|\n",
      "|           HV0003|              B03404|              B03404|2024-06-30 23:59:19|2024-07-01 00:04:34|2024-07-01 00:04:43|2024-07-01 00:19:06|         255|          65|      4.27|      863|              32.05|  0.0|0.94|     3.03|                 0.0|        0.0| 0.0|     17.14|                  N|                N|                 N|               N|             N|\n",
      "|           HV0003|              B03404|              B03404|2024-07-01 00:21:46|2024-07-01 00:28:27|2024-07-01 00:28:41|2024-07-01 00:43:51|          33|         255|      5.21|      910|              22.92|  0.0|0.66|     2.14|                 0.0|        0.0| 0.0|     15.93|                  N|                N|                 N|               N|             N|\n",
      "|           HV0003|              B03404|              B03404|2024-07-01 00:44:43|2024-07-01 00:48:59|2024-07-01 00:49:29|2024-07-01 00:55:36|         255|         112|       1.1|      367|                8.4|  0.0|0.24|     0.79|                 0.0|        0.0| 1.0|       5.4|                  N|                N|                 N|               N|             N|\n",
      "|           HV0003|              B03404|              B03404|2024-07-01 00:11:54|2024-07-01 00:18:05|2024-07-01 00:19:08|2024-07-01 00:24:22|         230|          68|      0.75|      314|              17.01|  0.0| 0.5|     1.61|                2.75|        0.0| 0.0|       9.1|                  N|                N|                 N|               N|             N|\n",
      "|           HV0003|              B03404|              B03404|2024-07-01 00:23:23|2024-07-01 00:29:57|2024-07-01 00:31:47|2024-07-01 00:53:12|          68|         158|      2.81|     1285|              38.96|  0.0|1.14|     3.67|                2.75|        0.0| 0.0|     20.76|                  N|                N|                 N|               N|             N|\n",
      "|           HV0003|              B03404|              B03404|2024-07-01 00:42:13|2024-07-01 00:57:05|2024-07-01 00:57:30|2024-07-01 01:20:18|         249|          17|      6.14|     1368|              30.48|  0.0|0.89|     2.88|                2.75|        0.0| 0.0|     21.64|                  N|                N|                 N|               N|             N|\n",
      "|           HV0003|              B03404|              B03404|2024-07-01 00:02:15|2024-07-01 00:06:18|2024-07-01 00:06:55|2024-07-01 00:11:50|         167|         167|       0.7|      295|               8.93|  0.0|0.25|     0.79|                 0.0|        0.0| 0.0|       5.4|                  N|                N|                 N|               N|             N|\n",
      "|           HV0003|              B03404|              B03404|2024-07-01 00:16:19|2024-07-01 00:21:54|2024-07-01 00:22:08|2024-07-01 00:30:20|          69|         147|      1.54|      492|              10.71|  0.0|0.29|     0.95|                 0.0|        0.0| 0.0|      6.87|                  N|                N|                 N|               N|             N|\n",
      "|           HV0003|              B03404|              B03404|2024-07-01 00:33:32|2024-07-01 00:35:14|2024-07-01 00:36:06|2024-07-01 00:43:41|         147|         212|      1.26|      455|               9.25|  0.0|0.27|     0.87|                 0.0|        0.0| 0.0|      6.13|                  N|                N|                 N|               N|             N|\n",
      "+-----------------+--------------------+--------------------+-------------------+-------------------+-------------------+-------------------+------------+------------+----------+---------+-------------------+-----+----+---------+--------------------+-----------+----+----------+-------------------+-----------------+------------------+----------------+--------------+\n",
      "only showing top 20 rows\n"
     ]
    }
   ],
   "source": [
    "df2.show()"
   ]
  },
  {
   "cell_type": "code",
   "execution_count": 12,
   "id": "ed1a991b-f6e3-49e2-8a60-84e2eece5a2c",
   "metadata": {},
   "outputs": [
    {
     "data": {
      "text/plain": [
       "['hvfhs_license_num',\n",
       " 'dispatching_base_num',\n",
       " 'originating_base_num',\n",
       " 'request_datetime',\n",
       " 'on_scene_datetime',\n",
       " 'pickup_datetime',\n",
       " 'dropoff_datetime',\n",
       " 'PULocationID',\n",
       " 'DOLocationID',\n",
       " 'trip_miles',\n",
       " 'trip_time',\n",
       " 'base_passenger_fare',\n",
       " 'tolls',\n",
       " 'bcf',\n",
       " 'sales_tax',\n",
       " 'congestion_surcharge',\n",
       " 'airport_fee',\n",
       " 'tips',\n",
       " 'driver_pay',\n",
       " 'shared_request_flag',\n",
       " 'shared_match_flag',\n",
       " 'access_a_ride_flag',\n",
       " 'wav_request_flag',\n",
       " 'wav_match_flag']"
      ]
     },
     "execution_count": 12,
     "metadata": {},
     "output_type": "execute_result"
    }
   ],
   "source": [
    "df2.columns"
   ]
  },
  {
   "cell_type": "code",
   "execution_count": 15,
   "id": "007ed70a-348a-4028-b179-0a2245d99958",
   "metadata": {},
   "outputs": [
    {
     "data": {
      "text/plain": [
       "['LocationID', 'Borough', 'Zone', 'service_zone']"
      ]
     },
     "execution_count": 15,
     "metadata": {},
     "output_type": "execute_result"
    }
   ],
   "source": [
    "df1.columns"
   ]
  },
  {
   "cell_type": "code",
   "execution_count": 18,
   "id": "3295824e-f194-453d-b4eb-08caa23e9df9",
   "metadata": {},
   "outputs": [
    {
     "name": "stdout",
     "output_type": "stream",
     "text": [
      "+------------+------------+\n",
      "|PULocationID|DOLocationID|\n",
      "+------------+------------+\n",
      "|         138|         141|\n",
      "|          61|          80|\n",
      "|          36|         260|\n",
      "|          80|          42|\n",
      "|         152|          41|\n",
      "|         138|          92|\n",
      "|         164|          17|\n",
      "|          37|         225|\n",
      "|         225|          79|\n",
      "|          17|          49|\n",
      "|          17|         148|\n",
      "|         255|          65|\n",
      "|          33|         255|\n",
      "|         255|         112|\n",
      "|         230|          68|\n",
      "|          68|         158|\n",
      "|         249|          17|\n",
      "|         167|         167|\n",
      "|          69|         147|\n",
      "|         147|         212|\n",
      "+------------+------------+\n",
      "only showing top 20 rows\n"
     ]
    }
   ],
   "source": [
    "df2.select('PULocationID', 'DOLocationID').show()"
   ]
  },
  {
   "cell_type": "code",
   "execution_count": 40,
   "id": "e49be295-bbe7-46b6-a7d2-fbe9cebfbeae",
   "metadata": {},
   "outputs": [],
   "source": [
    "df2=df2.select('pickup_datetime',\n",
    " 'dropoff_datetime',\n",
    " 'PULocationID',\n",
    " 'DOLocationID',\n",
    " 'trip_miles',\n",
    " 'trip_time',\n",
    " 'driver_pay')"
   ]
  },
  {
   "cell_type": "code",
   "execution_count": 24,
   "id": "dc8fd86b-4e03-4f06-b119-b34667f3f250",
   "metadata": {},
   "outputs": [
    {
     "name": "stdout",
     "output_type": "stream",
     "text": [
      "+-------------------+-------------------+------------+------------+----------+---------+----------+\n",
      "|    pickup_datetime|   dropoff_datetime|PULocationID|DOLocationID|trip_miles|trip_time|driver_pay|\n",
      "+-------------------+-------------------+------------+------------+----------+---------+----------+\n",
      "|2024-07-01 00:19:43|2024-07-01 00:40:35|         138|         141|      8.84|     1252|     24.19|\n",
      "|2024-07-01 00:21:00|2024-07-01 00:41:24|          61|          80|      3.96|     1224|     19.37|\n",
      "|2024-07-01 00:45:10|2024-07-01 01:01:05|          36|         260|      5.61|      955|     12.08|\n",
      "|2024-07-01 00:49:01|2024-07-01 01:15:02|          80|          42|     11.24|     1561|     25.64|\n",
      "|2024-07-01 00:41:36|2024-07-01 00:49:48|         152|          41|       1.6|      492|      7.11|\n",
      "+-------------------+-------------------+------------+------------+----------+---------+----------+\n",
      "only showing top 5 rows\n"
     ]
    }
   ],
   "source": [
    "df2.select('pickup_datetime',\n",
    " 'dropoff_datetime',\n",
    " 'PULocationID',\n",
    " 'DOLocationID',\n",
    " 'trip_miles',\n",
    " 'trip_time',\n",
    " 'driver_pay').show(5)"
   ]
  },
  {
   "cell_type": "code",
   "execution_count": 25,
   "id": "2f6c2ed8-ad94-4145-b9f8-9b9bd1086cfc",
   "metadata": {},
   "outputs": [
    {
     "name": "stdout",
     "output_type": "stream",
     "text": [
      "+----------+-------------+--------------------+------------+\n",
      "|LocationID|      Borough|                Zone|service_zone|\n",
      "+----------+-------------+--------------------+------------+\n",
      "|         1|          EWR|      Newark Airport|         EWR|\n",
      "|         2|       Queens|         Jamaica Bay|   Boro Zone|\n",
      "|         3|        Bronx|Allerton/Pelham G...|   Boro Zone|\n",
      "|         4|    Manhattan|       Alphabet City| Yellow Zone|\n",
      "|         5|Staten Island|       Arden Heights|   Boro Zone|\n",
      "+----------+-------------+--------------------+------------+\n",
      "only showing top 5 rows\n"
     ]
    }
   ],
   "source": [
    "df1.show(5)"
   ]
  },
  {
   "cell_type": "code",
   "execution_count": 28,
   "id": "fd6996d2-8b26-43db-acd0-78913abdd82d",
   "metadata": {},
   "outputs": [
    {
     "name": "stdout",
     "output_type": "stream",
     "text": [
      "Main DataFrame Count :  19182934\n",
      "Location DataFrame Count :  265\n"
     ]
    }
   ],
   "source": [
    "print('Main DataFrame Count : ', df2.count())\n",
    "print('Location DataFrame Count : ', df1.count())"
   ]
  },
  {
   "cell_type": "markdown",
   "id": "3540124b-07cd-4439-8a24-b2ed19632c9a",
   "metadata": {},
   "source": [
    "Requirement : We need a final table with Zone names instead of location Id for data analysis"
   ]
  },
  {
   "cell_type": "markdown",
   "id": "e7b3aa14-ab11-4422-b5d0-d75a09531632",
   "metadata": {},
   "source": [
    "As data volume in DF2 is very high and data volume in DF1 is very less. We will use a query optimization technique, \"Broadcast Join\""
   ]
  },
  {
   "cell_type": "code",
   "execution_count": 30,
   "id": "bc2a5f45-aab1-4fdd-b17f-99c9c53e1137",
   "metadata": {},
   "outputs": [
    {
     "data": {
      "text/plain": [
       "8"
      ]
     },
     "execution_count": 30,
     "metadata": {},
     "output_type": "execute_result"
    }
   ],
   "source": [
    "df2.rdd.getNumPartitions()"
   ]
  },
  {
   "cell_type": "code",
   "execution_count": 36,
   "id": "df4dcd7e-1a33-4618-890e-583d0a496e4b",
   "metadata": {},
   "outputs": [],
   "source": [
    "from pyspark.sql.functions import broadcast"
   ]
  },
  {
   "cell_type": "code",
   "execution_count": 42,
   "id": "d0012d06-3f79-4026-85a7-241b7315bb75",
   "metadata": {},
   "outputs": [],
   "source": [
    "df2_alias = df2.alias(\"df2\")\n",
    "pickup_df1 = df1.alias(\"pickup\")\n",
    "dropoff_df1 = df1.alias(\"dropoff\")"
   ]
  },
  {
   "cell_type": "code",
   "execution_count": 58,
   "id": "bba0aea1-8643-4779-b98c-720fca034a87",
   "metadata": {},
   "outputs": [],
   "source": [
    "df = df2_alias.join(broadcast(pickup_df1), on=df2_alias.PULocationID == pickup_df1.LocationID, how=\"inner\") \\\n",
    "    .join(broadcast(dropoff_df1), on=df2_alias.DOLocationID == dropoff_df1.LocationID, how=\"inner\") \\\n",
    "    .selectExpr(\"df2.*\",\"pickup.Zone as PickUp_Zone\",\"dropoff.Zone as DropOff_Zone\")"
   ]
  },
  {
   "cell_type": "code",
   "execution_count": 57,
   "id": "41cf7ffc-5a2c-4871-a741-81ed640c4752",
   "metadata": {},
   "outputs": [
    {
     "name": "stdout",
     "output_type": "stream",
     "text": [
      "+-------------------+-------------------+------------+------------+----------+---------+----------+-------------------+--------------------+\n",
      "|    pickup_datetime|   dropoff_datetime|PULocationID|DOLocationID|trip_miles|trip_time|driver_pay|        PickUp_Zone|        DropOff_Zone|\n",
      "+-------------------+-------------------+------------+------------+----------+---------+----------+-------------------+--------------------+\n",
      "|2024-07-01 00:19:43|2024-07-01 00:40:35|         138|         141|      8.84|     1252|     24.19|  LaGuardia Airport|     Lenox Hill West|\n",
      "|2024-07-01 00:21:00|2024-07-01 00:41:24|          61|          80|      3.96|     1224|     19.37|Crown Heights North|   East Williamsburg|\n",
      "|2024-07-01 00:45:10|2024-07-01 01:01:05|          36|         260|      5.61|      955|     12.08|     Bushwick North|            Woodside|\n",
      "|2024-07-01 00:49:01|2024-07-01 01:15:02|          80|          42|     11.24|     1561|     25.64|  East Williamsburg|Central Harlem North|\n",
      "|2024-07-01 00:41:36|2024-07-01 00:49:48|         152|          41|       1.6|      492|      7.11|     Manhattanville|      Central Harlem|\n",
      "+-------------------+-------------------+------------+------------+----------+---------+----------+-------------------+--------------------+\n",
      "only showing top 5 rows\n"
     ]
    }
   ],
   "source": [
    "df.show(5)"
   ]
  },
  {
   "cell_type": "code",
   "execution_count": null,
   "id": "ced6a7f0-03d2-4ac4-8fe7-b50953e745e0",
   "metadata": {},
   "outputs": [],
   "source": []
  }
 ],
 "metadata": {
  "kernelspec": {
   "display_name": "Python 3 (ipykernel)",
   "language": "python",
   "name": "python3"
  },
  "language_info": {
   "codemirror_mode": {
    "name": "ipython",
    "version": 3
   },
   "file_extension": ".py",
   "mimetype": "text/x-python",
   "name": "python",
   "nbconvert_exporter": "python",
   "pygments_lexer": "ipython3",
   "version": "3.12.7"
  }
 },
 "nbformat": 4,
 "nbformat_minor": 5
}
